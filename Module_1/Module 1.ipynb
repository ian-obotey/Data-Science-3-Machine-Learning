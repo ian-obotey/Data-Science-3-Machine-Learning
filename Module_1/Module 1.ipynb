{
 "cells": [
  {
   "cell_type": "markdown",
   "metadata": {},
   "source": [
    "**Module 1:**\n",
    "\n",
    "1.1 AI vs ML vs DL\n",
    "\n",
    "1.2 Types of ML\n",
    "\n",
    "1.3 Supervised Learning and types\n",
    "\n",
    "1.4 Unsupervised Learning and types\n",
    "\n",
    "1.5 Deep Learning Basics\n"
   ]
  },
  {
   "cell_type": "markdown",
   "metadata": {},
   "source": [
    "**1.1**\n"
   ]
  },
  {
   "cell_type": "markdown",
   "metadata": {},
   "source": [
    "Artificial intelligence is the broader feild, Machine Learning is a subset of Artificial Intelligence while Deep learning on the other hand is a subset of Machine Learning."
   ]
  },
  {
   "cell_type": "markdown",
   "metadata": {},
   "source": [
    "**Artificial intelligence**\n"
   ]
  },
  {
   "cell_type": "markdown",
   "metadata": {},
   "source": [
    "AI, is a branch of computer science. It is concerned with building smart and intelligent machines."
   ]
  },
  {
   "cell_type": "markdown",
   "metadata": {},
   "source": [
    "An intelligent machine differs from normal machines by its ability to make decisions. Normal machines are able to perform tasks repeatedly in an effort to make life easier, intelligent machines take this further by reducing the amount of input required to complete tasks. An example of this is an autonomous car. "
   ]
  },
  {
   "cell_type": "markdown",
   "metadata": {},
   "source": [
    "**Machine Learning**\n"
   ]
  },
  {
   "cell_type": "markdown",
   "metadata": {},
   "source": [
    "ML, is a technique to implement AI that can learn from the data by themselves without being explicitly programmed. It is enabled by providing machines with data on a particular subject and allowing the machine to learn from it. An example of this would be to provide the machine with several labeled images of cats and dogs, from this the machine will eventually learn to differentiate the two animals from data a totaly different set of data the same structure."
   ]
  },
  {
   "cell_type": "markdown",
   "metadata": {},
   "source": [
    "**Deep Learning**"
   ]
  },
  {
   "cell_type": "markdown",
   "metadata": {},
   "source": [
    "Deep learning is a subfield of machine learnig that uses Artificial Neural Networks to learn from data. ANN, is an algorithm and deep learning in a simpler definition is an attempt to mimic the human brain. An example of this is the implementation of face detection."
   ]
  },
  {
   "cell_type": "markdown",
   "metadata": {},
   "source": [
    "**1.2**"
   ]
  },
  {
   "cell_type": "markdown",
   "metadata": {},
   "source": [
    "**Types of machine learning**"
   ]
  },
  {
   "cell_type": "markdown",
   "metadata": {},
   "source": [
    "**1.Supervised Learning**\n",
    "\n",
    "**2.Unsupervised Learning**\n",
    "\n",
    "**3.Reinforcement Learning**"
   ]
  },
  {
   "cell_type": "markdown",
   "metadata": {},
   "source": [
    "**Supervised Learning**"
   ]
  },
  {
   "cell_type": "markdown",
   "metadata": {},
   "source": [
    "In this ML technique machines learn from labelled data. As the dog and cat example. "
   ]
  },
  {
   "cell_type": "markdown",
   "metadata": {},
   "source": [
    "**Unsupervised Learning**\n"
   ]
  },
  {
   "cell_type": "markdown",
   "metadata": {},
   "source": [
    "Here the machine learning algorithms learn from unlabelled data."
   ]
  },
  {
   "cell_type": "markdown",
   "metadata": {},
   "source": [
    "In this case we do not tell the machine what specific elements the data represents. We will give the machine several images of cats and dogs without telling the machine what each represents. "
   ]
  },
  {
   "cell_type": "markdown",
   "metadata": {},
   "source": [
    "The machine will then find patterns and try to group this images."
   ]
  },
  {
   "cell_type": "markdown",
   "metadata": {},
   "source": [
    "**Reinforcement Learning**"
   ]
  },
  {
   "cell_type": "markdown",
   "metadata": {},
   "source": [
    "This is an area in ML that is concerned with how intelligent agents take actions in an environment to maximize its rewards."
   ]
  },
  {
   "cell_type": "markdown",
   "metadata": {},
   "source": [
    "There are 4 main aspects in this technique which are the **environment, agent, action and reward**"
   ]
  },
  {
   "cell_type": "markdown",
   "metadata": {},
   "source": [
    "We need to build an agent which acts in this environment to gain rewards. An example is the attempt to build a program that learns to play chess. This case the chess board becomes the environment, the computer becomes the agent and for ech move(action) the computer makes it attempts to achieve the ultimate reward which is winning the chess game. "
   ]
  },
  {
   "cell_type": "markdown",
   "metadata": {},
   "source": [
    "**1.3**"
   ]
  },
  {
   "cell_type": "markdown",
   "metadata": {},
   "source": [
    "**Supervised Learning and types**"
   ]
  },
  {
   "cell_type": "markdown",
   "metadata": {},
   "source": [
    "Using the supervised learning algorithm, the machine attempts to learn from the label by associating it with a type. In the cat and dog example, the ML model using this technique will be able to distinguish the two when given an unknown image."
   ]
  },
  {
   "cell_type": "markdown",
   "metadata": {},
   "source": [
    "The key take away here is that we are training the model with labelled data."
   ]
  },
  {
   "cell_type": "markdown",
   "metadata": {},
   "source": [
    "**Types of supervised learning**"
   ]
  },
  {
   "cell_type": "markdown",
   "metadata": {},
   "source": [
    "Classification"
   ]
  },
  {
   "cell_type": "markdown",
   "metadata": {},
   "source": [
    "Regression"
   ]
  },
  {
   "cell_type": "markdown",
   "metadata": {},
   "source": [
    "**Classification**"
   ]
  },
  {
   "cell_type": "markdown",
   "metadata": {},
   "source": [
    "This is all about predicting a class or discrete values. Such as: Male or Female."
   ]
  },
  {
   "cell_type": "markdown",
   "metadata": {},
   "source": [
    "**Classification algorithms**\n"
   ]
  },
  {
   "cell_type": "markdown",
   "metadata": {},
   "source": [
    "Decision Trees\n",
    "\n",
    "Random forest\n",
    "\n",
    "K-nearest neighbor\n",
    "\n",
    "Logistic regression\n",
    "\n",
    "Support Vector Machines"
   ]
  },
  {
   "cell_type": "markdown",
   "metadata": {},
   "source": [
    "**Regression**"
   ]
  },
  {
   "cell_type": "markdown",
   "metadata": {},
   "source": [
    "Regression is about predicting a quantity or continous values. This could be values such as age, salary and price."
   ]
  },
  {
   "cell_type": "markdown",
   "metadata": {},
   "source": [
    "Linear regression\n",
    "\n",
    "Polynomial regression\n",
    "\n",
    "Lasso regression\n",
    "\n",
    "Ridge regression"
   ]
  },
  {
   "cell_type": "markdown",
   "metadata": {},
   "source": [
    "**1.4**"
   ]
  },
  {
   "cell_type": "markdown",
   "metadata": {},
   "source": [
    " **Unsupervised Learning**"
   ]
  },
  {
   "cell_type": "markdown",
   "metadata": {},
   "source": [
    "The ML algo in this case uses unlabelled data for training. Once the model is fed the data, it can group the data based on similar patterns automatically. "
   ]
  },
  {
   "cell_type": "markdown",
   "metadata": {},
   "source": [
    "**Types of supervised Learning**"
   ]
  },
  {
   "cell_type": "markdown",
   "metadata": {},
   "source": [
    "Clustering"
   ]
  },
  {
   "cell_type": "markdown",
   "metadata": {},
   "source": [
    "Association"
   ]
  },
  {
   "cell_type": "markdown",
   "metadata": {},
   "source": [
    "**Clustering**"
   ]
  },
  {
   "cell_type": "markdown",
   "metadata": {},
   "source": [
    "This is an unsupervised task which involves grouping the similar data points. "
   ]
  },
  {
   "cell_type": "markdown",
   "metadata": {},
   "source": [
    "A good use case of this is by grouping customers from a telco company. A clustering algorithm can identify the behavior of different users and give tailored offers to them. The algo can identify users who have a low call duration but have a high internet usage as one group, another group can be the users who have a low internet usage and but have a high call duration. Group one can therefore be provided with offers on cheaper internet while the send can be provided with offers to make cheaper calls.  "
   ]
  },
  {
   "cell_type": "markdown",
   "metadata": {},
   "source": [
    "**Association**"
   ]
  },
  {
   "cell_type": "markdown",
   "metadata": {},
   "source": [
    "This task is used to find important relationships between data points."
   ]
  },
  {
   "cell_type": "markdown",
   "metadata": {},
   "source": [
    "Association algos can be used in learning customer behaviour and predicting what the customer is most likely to do. Online markets take advantage of this by identifying common goods that are bought together and suggesting what the user may most likely want to get after purchasing a particular item. A customer who buys bread has a high chance of wanting goods such as milk, eggs or sugar."
   ]
  },
  {
   "cell_type": "markdown",
   "metadata": {},
   "source": [
    "**Unsupervised Learning algorithms**"
   ]
  },
  {
   "cell_type": "markdown",
   "metadata": {},
   "source": [
    "K-Means clustering\n",
    "\n",
    "Heirachial clustering\n",
    "\n",
    "Principal Component Analysis\n",
    "\n",
    "Apriori\n",
    "\n",
    "Eclat\n"
   ]
  },
  {
   "cell_type": "markdown",
   "metadata": {},
   "source": [
    "**1.5**"
   ]
  },
  {
   "cell_type": "markdown",
   "metadata": {},
   "source": [
    "**Deep Learning**"
   ]
  },
  {
   "cell_type": "markdown",
   "metadata": {},
   "source": [
    "Deep learning uses artificial neural networks to learn from data. An ANN consists of individual neurons connected to each other, together they form the neural network with each neuron having a mathemtical function assigned to it. The 3 main parts of an ANN are the: input layer, hidden layer and finally the output layer."
   ]
  },
  {
   "cell_type": "markdown",
   "metadata": {},
   "source": [
    "Using an example of an image recognition task, the image is provided to the algorithm and split into several pixels in the input layer. The pixels are then forwarded to several neurons in the hidden layer where processing will occur and the final results to the output layer where the prediction of the results will be given."
   ]
  },
  {
   "cell_type": "markdown",
   "metadata": {},
   "source": [
    "**DL vs ML**"
   ]
  },
  {
   "cell_type": "markdown",
   "metadata": {},
   "source": [
    "The main advantage deep learning has over machine learning is the ability to perform feature extraction."
   ]
  },
  {
   "cell_type": "markdown",
   "metadata": {},
   "source": [
    "When providing data to machine learning algorithms we have to include the important characters of what our object should contain in order to fullfil our needs to categorize it as such. An example is the description of a car; it has to have 4 wheels, a steering wheel, an engine. This features or some of them have to be provided to the machine learning algorithm to enable it learn what a car is or needs to be."
   ]
  },
  {
   "cell_type": "markdown",
   "metadata": {},
   "source": [
    "Neural networks are more powerful in this case because they will be able to identify this features by themselves."
   ]
  },
  {
   "cell_type": "markdown",
   "metadata": {},
   "source": [
    "An example is when a DL algorithm was provided with images of a normal retina and that of a patient with diabetic retinopathy. The model was able to learn and predict whether the patient was male or female, predict whether they had other underlying conditions other than diabetic retinopathy."
   ]
  },
  {
   "cell_type": "markdown",
   "metadata": {},
   "source": []
  }
 ],
 "metadata": {
  "language_info": {
   "name": "python"
  }
 },
 "nbformat": 4,
 "nbformat_minor": 2
}
